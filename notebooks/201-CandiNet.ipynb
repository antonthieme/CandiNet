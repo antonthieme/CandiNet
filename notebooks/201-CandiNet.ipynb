{
 "cells": [
  {
   "cell_type": "code",
   "execution_count": 1,
   "metadata": {},
   "outputs": [],
   "source": [
    "from torch.utils.data import Dataset, DataLoader\n",
    "import torch.nn as nn\n",
    "import torch.nn.functional as F\n",
    "import torch\n",
    "from tqdm import tqdm\n",
    "import scanpy as sc\n",
    "import pandas as pd\n",
    "from collections import defaultdict\n"
   ]
  },
  {
   "cell_type": "markdown",
   "metadata": {},
   "source": [
    "## Load Data"
   ]
  },
  {
   "cell_type": "code",
   "execution_count": 12,
   "metadata": {},
   "outputs": [],
   "source": [
    "train_data = torch.load('../data/train_data.pt')\n",
    "val_data = torch.load('../data/val_data.pt')"
   ]
  },
  {
   "cell_type": "code",
   "execution_count": 3,
   "metadata": {},
   "outputs": [
    {
     "data": {
      "text/html": [
       "<div>\n",
       "<style scoped>\n",
       "    .dataframe tbody tr th:only-of-type {\n",
       "        vertical-align: middle;\n",
       "    }\n",
       "\n",
       "    .dataframe tbody tr th {\n",
       "        vertical-align: top;\n",
       "    }\n",
       "\n",
       "    .dataframe thead th {\n",
       "        text-align: right;\n",
       "    }\n",
       "</style>\n",
       "<table border=\"1\" class=\"dataframe\">\n",
       "  <thead>\n",
       "    <tr style=\"text-align: right;\">\n",
       "      <th></th>\n",
       "      <th>GeneID</th>\n",
       "      <th>GO_ID</th>\n",
       "      <th>uniprot_id</th>\n",
       "    </tr>\n",
       "  </thead>\n",
       "  <tbody>\n",
       "    <tr>\n",
       "      <th>0</th>\n",
       "      <td>1</td>\n",
       "      <td>GO:0002764</td>\n",
       "      <td>P04217</td>\n",
       "    </tr>\n",
       "    <tr>\n",
       "      <th>1</th>\n",
       "      <td>1</td>\n",
       "      <td>GO:0005576</td>\n",
       "      <td>P04217</td>\n",
       "    </tr>\n",
       "    <tr>\n",
       "      <th>5</th>\n",
       "      <td>1</td>\n",
       "      <td>GO:0005615</td>\n",
       "      <td>P04217</td>\n",
       "    </tr>\n",
       "    <tr>\n",
       "      <th>6</th>\n",
       "      <td>1</td>\n",
       "      <td>GO:0005886</td>\n",
       "      <td>P04217</td>\n",
       "    </tr>\n",
       "    <tr>\n",
       "      <th>7</th>\n",
       "      <td>1</td>\n",
       "      <td>GO:0031093</td>\n",
       "      <td>P04217</td>\n",
       "    </tr>\n",
       "    <tr>\n",
       "      <th>...</th>\n",
       "      <td>...</td>\n",
       "      <td>...</td>\n",
       "      <td>...</td>\n",
       "    </tr>\n",
       "    <tr>\n",
       "      <th>489840</th>\n",
       "      <td>128854680</td>\n",
       "      <td>GO:0005737</td>\n",
       "      <td>Q6B8I1</td>\n",
       "    </tr>\n",
       "    <tr>\n",
       "      <th>489842</th>\n",
       "      <td>128854680</td>\n",
       "      <td>GO:0008138</td>\n",
       "      <td>Q6B8I1</td>\n",
       "    </tr>\n",
       "    <tr>\n",
       "      <th>489843</th>\n",
       "      <td>128854680</td>\n",
       "      <td>GO:0016311</td>\n",
       "      <td>Q6B8I1</td>\n",
       "    </tr>\n",
       "    <tr>\n",
       "      <th>489844</th>\n",
       "      <td>128854680</td>\n",
       "      <td>GO:0016787</td>\n",
       "      <td>Q6B8I1</td>\n",
       "    </tr>\n",
       "    <tr>\n",
       "      <th>489845</th>\n",
       "      <td>128854680</td>\n",
       "      <td>GO:0016791</td>\n",
       "      <td>Q6B8I1</td>\n",
       "    </tr>\n",
       "  </tbody>\n",
       "</table>\n",
       "<p>334072 rows × 3 columns</p>\n",
       "</div>"
      ],
      "text/plain": [
       "           GeneID       GO_ID uniprot_id\n",
       "0               1  GO:0002764     P04217\n",
       "1               1  GO:0005576     P04217\n",
       "5               1  GO:0005615     P04217\n",
       "6               1  GO:0005886     P04217\n",
       "7               1  GO:0031093     P04217\n",
       "...           ...         ...        ...\n",
       "489840  128854680  GO:0005737     Q6B8I1\n",
       "489842  128854680  GO:0008138     Q6B8I1\n",
       "489843  128854680  GO:0016311     Q6B8I1\n",
       "489844  128854680  GO:0016787     Q6B8I1\n",
       "489845  128854680  GO:0016791     Q6B8I1\n",
       "\n",
       "[334072 rows x 3 columns]"
      ]
     },
     "execution_count": 3,
     "metadata": {},
     "output_type": "execute_result"
    }
   ],
   "source": [
    "# Load gene2go\n",
    "gene2go = pd.read_csv(\"../../decode-agent/data/gene2go_human.tsv\", sep=\"\\t\")\n",
    "gene2go = gene2go[[\"GeneID\", \"GO_ID\"]]\n",
    "\n",
    "geneid_to_uniprot = torch.load('../data/geneid_to_uniprot.pt')\n",
    "\n",
    "gene2go['GeneID'] = gene2go['GeneID'].astype(str)\n",
    "gene2go['uniprot_id'] = gene2go['GeneID'].map(geneid_to_uniprot)\n",
    "gene2go.dropna(axis=0, inplace=True)\n",
    "gene2go.drop_duplicates(inplace=True)\n",
    "gene2go"
   ]
  },
  {
   "cell_type": "code",
   "execution_count": 4,
   "metadata": {},
   "outputs": [],
   "source": [
    "def build_ground_truth_map(gene2go_df):\n",
    "    mapping = defaultdict(set)\n",
    "    for _, row in gene2go_df.iterrows():\n",
    "        mapping[row['GO_ID']].add(row['uniprot_id'])\n",
    "    return mapping"
   ]
  },
  {
   "cell_type": "code",
   "execution_count": 5,
   "metadata": {},
   "outputs": [],
   "source": [
    "class GeneGODataset(Dataset):\n",
    "    def __init__(self, data):\n",
    "        self.data = data  # list of (go_embed, esm_embed, go_id, uniprot_id)\n",
    "\n",
    "    def __len__(self):\n",
    "        return len(self.data)\n",
    "\n",
    "    def __getitem__(self, idx):\n",
    "        go_embed, esm_embed, go_id, uniprot_id = self.data[idx]\n",
    "        return {\n",
    "            \"go_embed\": go_embed,\n",
    "            \"esm_embed\": esm_embed,\n",
    "            \"go_id\": go_id,\n",
    "            \"uniprot_id\": uniprot_id,\n",
    "        }"
   ]
  },
  {
   "cell_type": "code",
   "execution_count": 7,
   "metadata": {},
   "outputs": [],
   "source": [
    "class DualEncoder(nn.Module):\n",
    "    def __init__(self, go_dim=768, esm_dim=1280, hidden_dim=512):\n",
    "        super().__init__()\n",
    "        self.go_proj = nn.Sequential(\n",
    "            nn.Linear(go_dim, hidden_dim),\n",
    "            nn.ReLU(),\n",
    "            nn.LayerNorm(hidden_dim),\n",
    "        )\n",
    "        self.esm_proj = nn.Sequential(\n",
    "            nn.Linear(esm_dim, hidden_dim),\n",
    "            nn.ReLU(),\n",
    "            nn.LayerNorm(hidden_dim),\n",
    "        )\n",
    "\n",
    "    def forward(self, go_embed, esm_embed):\n",
    "        go_latent = self.go_proj(go_embed)\n",
    "        esm_latent = self.esm_proj(esm_embed)\n",
    "        return go_latent, esm_latent"
   ]
  },
  {
   "cell_type": "code",
   "execution_count": 8,
   "metadata": {},
   "outputs": [],
   "source": [
    "def contrastive_loss(go_latents, esm_latents, temperature=0.07):\n",
    "    # Normalize embeddings\n",
    "    go_latents = F.normalize(go_latents, dim=1)\n",
    "    esm_latents = F.normalize(esm_latents, dim=1)\n",
    "\n",
    "    # Compute cosine similarity\n",
    "    logits = torch.matmul(go_latents, esm_latents.T) / temperature\n",
    "\n",
    "    # Labels: correct pair is at same index\n",
    "    labels = torch.arange(go_latents.size(0), device=go_latents.device)\n",
    "    loss_i = F.cross_entropy(logits, labels)\n",
    "    loss_j = F.cross_entropy(logits.T, labels)\n",
    "    return (loss_i + loss_j) / 2"
   ]
  },
  {
   "cell_type": "code",
   "execution_count": 14,
   "metadata": {},
   "outputs": [],
   "source": [
    "def cosine_sim(a, b):\n",
    "    return F.normalize(a, dim=-1) @ F.normalize(b, dim=-1).T\n",
    "\n",
    "def evaluate(model, val_dataloader, gene2go_df, k=10):\n",
    "    model.eval()\n",
    "    all_go_latents = []\n",
    "    all_go_ids = []\n",
    "    all_protein_latents = []\n",
    "    all_protein_ids = []\n",
    "\n",
    "    # Build lookup from gene2go\n",
    "    ground_truth = build_ground_truth_map(gene2go_df)\n",
    "\n",
    "    with torch.no_grad():\n",
    "        for batch in val_dataloader:\n",
    "            go = batch[\"go_embed\"]\n",
    "            esm = batch[\"esm_embed\"]\n",
    "            go_ids = batch[\"go_id\"]\n",
    "            protein_ids = batch[\"uniprot_id\"]\n",
    "\n",
    "            go_latent, esm_latent = model(go, esm)\n",
    "\n",
    "            all_go_latents.append(go_latent)\n",
    "            all_go_ids.extend(go_ids)\n",
    "            all_protein_latents.append(esm_latent)\n",
    "            all_protein_ids.extend(protein_ids)\n",
    "\n",
    "    go_latents = torch.cat(all_go_latents)  # (N_go, D)\n",
    "    protein_latents = torch.cat(all_protein_latents)  # (N_protein, D)\n",
    "\n",
    "    sim_matrix = cosine_sim(go_latents, protein_latents)  # (N_go, N_protein)\n",
    "\n",
    "    recalls = []\n",
    "    precisions = []\n",
    "    mrrs = []\n",
    "\n",
    "    for i, go_id in enumerate(all_go_ids):\n",
    "        true_proteins = ground_truth.get(go_id, set())\n",
    "        if not true_proteins:\n",
    "            continue\n",
    "\n",
    "        sims = sim_matrix[i]  # similarities to all proteins\n",
    "        topk_idx = torch.topk(sims, k)[1]\n",
    "        retrieved_ids = [all_protein_ids[j] for j in topk_idx]\n",
    "\n",
    "        hits = [1 if pid in true_proteins else 0 for pid in retrieved_ids]\n",
    "        num_hits = sum(hits)\n",
    "\n",
    "        # Recall@k\n",
    "        recalls.append(num_hits / len(true_proteins))\n",
    "\n",
    "        # Precision@k\n",
    "        precisions.append(num_hits / k)\n",
    "\n",
    "        # MRR\n",
    "        ranks = [j + 1 for j, h in enumerate(hits) if h]\n",
    "        mrr = 1 / ranks[0] if ranks else 0\n",
    "        mrrs.append(mrr)\n",
    "\n",
    "    return {\n",
    "        \"Recall@k\": sum(recalls) / len(recalls),\n",
    "        \"Precision@k\": sum(precisions) / len(precisions),\n",
    "        \"MRR\": sum(mrrs) / len(mrrs)\n",
    "    }\n"
   ]
  },
  {
   "cell_type": "code",
   "execution_count": 21,
   "metadata": {},
   "outputs": [
    {
     "name": "stderr",
     "output_type": "stream",
     "text": [
      "100%|██████████| 599/599 [08:19<00:00,  1.20it/s]\n"
     ]
    },
    {
     "name": "stdout",
     "output_type": "stream",
     "text": [
      "Epoch 1: Loss = 2.3164\n",
      "Evaluation: Recall@10 = 0.1188, Precision@10 = 0.6804, MRR = 0.6914\n"
     ]
    },
    {
     "name": "stderr",
     "output_type": "stream",
     "text": [
      "100%|██████████| 599/599 [09:19<00:00,  1.07it/s]\n"
     ]
    },
    {
     "name": "stdout",
     "output_type": "stream",
     "text": [
      "Epoch 2: Loss = 2.3024\n",
      "Evaluation: Recall@10 = 0.1037, Precision@10 = 0.6362, MRR = 0.6536\n"
     ]
    },
    {
     "name": "stderr",
     "output_type": "stream",
     "text": [
      "100%|██████████| 599/599 [09:40<00:00,  1.03it/s]\n"
     ]
    },
    {
     "name": "stdout",
     "output_type": "stream",
     "text": [
      "Epoch 3: Loss = 2.2890\n",
      "Evaluation: Recall@10 = 0.1089, Precision@10 = 0.6755, MRR = 0.6852\n"
     ]
    },
    {
     "name": "stderr",
     "output_type": "stream",
     "text": [
      "100%|██████████| 599/599 [09:33<00:00,  1.04it/s]\n"
     ]
    },
    {
     "name": "stdout",
     "output_type": "stream",
     "text": [
      "Epoch 4: Loss = 2.2823\n",
      "Evaluation: Recall@10 = 0.1123, Precision@10 = 0.6832, MRR = 0.6912\n"
     ]
    },
    {
     "name": "stderr",
     "output_type": "stream",
     "text": [
      "100%|██████████| 599/599 [09:33<00:00,  1.04it/s]\n"
     ]
    },
    {
     "name": "stdout",
     "output_type": "stream",
     "text": [
      "Epoch 5: Loss = 2.2717\n",
      "Evaluation: Recall@10 = 0.1016, Precision@10 = 0.6763, MRR = 0.6721\n"
     ]
    },
    {
     "name": "stderr",
     "output_type": "stream",
     "text": [
      "100%|██████████| 599/599 [09:28<00:00,  1.05it/s]\n"
     ]
    },
    {
     "name": "stdout",
     "output_type": "stream",
     "text": [
      "Epoch 6: Loss = 2.2616\n",
      "Evaluation: Recall@10 = 0.1177, Precision@10 = 0.6899, MRR = 0.6947\n"
     ]
    },
    {
     "name": "stderr",
     "output_type": "stream",
     "text": [
      "100%|██████████| 599/599 [09:03<00:00,  1.10it/s]\n"
     ]
    },
    {
     "name": "stdout",
     "output_type": "stream",
     "text": [
      "Epoch 7: Loss = 2.2596\n",
      "Evaluation: Recall@10 = 0.1137, Precision@10 = 0.6213, MRR = 0.6279\n"
     ]
    },
    {
     "name": "stderr",
     "output_type": "stream",
     "text": [
      "100%|██████████| 599/599 [09:10<00:00,  1.09it/s]\n"
     ]
    },
    {
     "name": "stdout",
     "output_type": "stream",
     "text": [
      "Epoch 8: Loss = 2.2507\n",
      "Evaluation: Recall@10 = 0.1061, Precision@10 = 0.6852, MRR = 0.6881\n"
     ]
    },
    {
     "name": "stderr",
     "output_type": "stream",
     "text": [
      "100%|██████████| 599/599 [09:38<00:00,  1.04it/s]\n"
     ]
    },
    {
     "name": "stdout",
     "output_type": "stream",
     "text": [
      "Epoch 9: Loss = 2.2399\n",
      "Evaluation: Recall@10 = 0.1073, Precision@10 = 0.6899, MRR = 0.6903\n"
     ]
    },
    {
     "name": "stderr",
     "output_type": "stream",
     "text": [
      "100%|██████████| 599/599 [09:13<00:00,  1.08it/s]\n"
     ]
    },
    {
     "name": "stdout",
     "output_type": "stream",
     "text": [
      "Epoch 10: Loss = 2.2370\n",
      "Evaluation: Recall@10 = 0.1159, Precision@10 = 0.6063, MRR = 0.6070\n"
     ]
    }
   ],
   "source": [
    "### model = DualEncoder()\n",
    "model = DualEncoder()\n",
    "model.load_state_dict(torch.load('../models/20250516_20epoch.pt'))\n",
    "\n",
    "train_dataset = GeneGODataset(train_data)\n",
    "train_dataloader = DataLoader(train_dataset, batch_size=128, shuffle=True)\n",
    "val_dataset = GeneGODataset(val_data)\n",
    "val_dataloader = DataLoader(val_dataset, batch_size=128, shuffle=True)\n",
    "optimizer = torch.optim.AdamW(model.parameters(), lr=1e-4)\n",
    "\n",
    "for epoch in range(10):\n",
    "    model.train()\n",
    "    total_loss = 0\n",
    "    for batch in tqdm(train_dataloader):\n",
    "        go = batch[\"go_embed\"]\n",
    "        esm = batch[\"esm_embed\"]\n",
    "\n",
    "        go_latent, esm_latent = model(go, esm)\n",
    "        loss = contrastive_loss(go_latent, esm_latent)\n",
    "\n",
    "        optimizer.zero_grad()\n",
    "        loss.backward()\n",
    "        optimizer.step()\n",
    "        total_loss += loss.item()\n",
    "\n",
    "    print(f\"Epoch {epoch+1}: Loss = {total_loss / len(train_dataloader):.4f}\")\n",
    "\n",
    "    metrics = evaluate(model, val_dataloader, gene2go, k=10)\n",
    "    print(f\"Evaluation: Recall@10 = {metrics['Recall@k']:.4f}, \"\n",
    "          f\"Precision@10 = {metrics['Precision@k']:.4f}, \"\n",
    "          f\"MRR = {metrics['MRR']:.4f}\")"
   ]
  },
  {
   "cell_type": "code",
   "execution_count": 22,
   "metadata": {},
   "outputs": [],
   "source": [
    "torch.save(model.state_dict(), '../models/20250516_30epoch.pt')"
   ]
  },
  {
   "cell_type": "code",
   "execution_count": null,
   "metadata": {},
   "outputs": [],
   "source": []
  }
 ],
 "metadata": {
  "kernelspec": {
   "display_name": "Python 3",
   "language": "python",
   "name": "python3"
  },
  "language_info": {
   "codemirror_mode": {
    "name": "ipython",
    "version": 3
   },
   "file_extension": ".py",
   "mimetype": "text/x-python",
   "name": "python",
   "nbconvert_exporter": "python",
   "pygments_lexer": "ipython3",
   "version": "3.10.17"
  }
 },
 "nbformat": 4,
 "nbformat_minor": 2
}
